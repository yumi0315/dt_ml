{
 "cells": [
  {
   "cell_type": "code",
   "execution_count": null,
   "metadata": {},
   "outputs": [],
   "source": [
    "import pandas as pd\n",
    "df = pd.read_excel('../data/seoul.xlsx', sheet_name='Sheet1')\n",
    "df"
   ]
  },
  {
   "cell_type": "code",
   "execution_count": null,
   "metadata": {},
   "outputs": [],
   "source": [
    "# iloc는 위치 기반 인덱싱을 사용해 행과 열을 선택하거나 슬라이싱할 수 있도록 해주는 객체입니다.\n",
    "print(df.iloc[0, 0]) # 성동구\n",
    "print(df.iloc[0, 1]) # 0.444997\n",
    "print(df.iloc[1, 0]) # 관악구\n",
    "print('')\n",
    "\n",
    "print(df.iloc[0:2, 0]) # 성동구, 관악구\n",
    "print(df.iloc[0, 1:3]) # 1인세대비율, 2인세대비율\n",
    "print('')\n",
    "\n",
    "print(df.iloc[0:2, 1:3]) # (성동구, 관악구) x (1인세대비율, 2인세대비율)\n",
    "print(df.iloc[0:2, [1,4]]) # (성동구, 관악구) x (1인세대비율, 5인세대이상비율)\n"
   ]
  },
  {
   "cell_type": "code",
   "execution_count": null,
   "metadata": {},
   "outputs": [],
   "source": [
    "df_index = pd.read_excel('../data/seoul.xlsx', sheet_name='Sheet1', index_col=0)\n",
    "df_index"
   ]
  },
  {
   "cell_type": "code",
   "execution_count": null,
   "metadata": {},
   "outputs": [],
   "source": [
    "#loc는 pandas 데이터프레임에서 특정 행과 열을 선택하는 데 사용되지만, 레이블 기반 인덱싱을 지원합니다\n",
    "print(df_index.loc['성동구', '1인세대비율'])\n",
    "print(df_index.loc['성동구', ['1인세대비율', '2인세대비율']])\n",
    "print('')\n",
    "print(df_index.loc[['성동구', '관악구'], '1인세대비율'])\n",
    "print('')\n",
    "print(df_index.loc[['성동구', '관악구'], ['1인세대비율', '2인세대비율']])"
   ]
  },
  {
   "cell_type": "code",
   "execution_count": null,
   "metadata": {},
   "outputs": [],
   "source": [
    "# 불린 인덱스(Boolean indexing) – 조건 필터링과 검색을 동시에 수행. \n",
    "df_filtered = df_index[df_index['1인세대비율'] > 0.5]\n",
    "df_filtered"
   ]
  },
  {
   "cell_type": "code",
   "execution_count": null,
   "metadata": {},
   "outputs": [],
   "source": [
    "# 여러 조건을 적용할 때는 and = &, or = |, not = ~\n",
    "cond1 = df_index['1인세대비율'] > 0.5\n",
    "cond2 = df_index['2인세대비율'] > 0.2\n",
    "df_filtered = df_index[cond1 & cond2]\n",
    "df_filtered"
   ]
  }
 ],
 "metadata": {
  "kernelspec": {
   "display_name": "ml",
   "language": "python",
   "name": "python3"
  },
  "language_info": {
   "codemirror_mode": {
    "name": "ipython",
    "version": 3
   },
   "file_extension": ".py",
   "mimetype": "text/x-python",
   "name": "python",
   "nbconvert_exporter": "python",
   "pygments_lexer": "ipython3",
   "version": "3.12.7"
  }
 },
 "nbformat": 4,
 "nbformat_minor": 2
}
