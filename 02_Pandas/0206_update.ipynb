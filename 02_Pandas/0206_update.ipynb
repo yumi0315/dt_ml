{
 "cells": [
  {
   "cell_type": "code",
   "execution_count": null,
   "metadata": {},
   "outputs": [],
   "source": [
    "import pandas as pd\n",
    "df = pd.read_csv('../data/2019년화재.csv', encoding='CP949')\n",
    "display(df)"
   ]
  },
  {
   "cell_type": "code",
   "execution_count": null,
   "metadata": {},
   "outputs": [],
   "source": [
    "# 새 열 추가\n",
    "df['인명피해'] = df['사망'] + df['부상']\n",
    "df.head(3)"
   ]
  },
  {
   "cell_type": "code",
   "execution_count": null,
   "metadata": {},
   "outputs": [],
   "source": [
    "# 기존 열 수정\n",
    "df['연번'] = df['연번'] - 1\n",
    "df.head(3)"
   ]
  },
  {
   "cell_type": "code",
   "execution_count": null,
   "metadata": {},
   "outputs": [],
   "source": [
    "# apply lambda\n",
    "df['화재크기분류'] = df['재산피해소계'].apply(lambda x: '소형' if x <= 1000 else '대형')\n",
    "df.head(3)\n"
   ]
  },
  {
   "cell_type": "code",
   "execution_count": null,
   "metadata": {},
   "outputs": [],
   "source": [
    "# apply method\n",
    "# axis=0: 행을 따라 함수를 적용합니다. 즉, 각 열(column)을 독립적으로 처리합니다.\n",
    "# axis=1: 열을 따라가 아닌, 각 행(row)에 대해 함수를 적용합니다.\n",
    "def clsssify_fire(row):\n",
    "    if row['재산피해소계'] < 500:\n",
    "        return '소형'\n",
    "    elif row['재산피해소계'] < 10000:\n",
    "        return '중형'\n",
    "    else:\n",
    "        return '대형'\n",
    "    \n",
    "df['화재크기분류'] = df.apply(clsssify_fire, axis=1)\n",
    "df.head(3)\n"
   ]
  },
  {
   "cell_type": "code",
   "execution_count": null,
   "metadata": {},
   "outputs": [],
   "source": [
    "# 열 삭제\n",
    "# drop(행인덱스, axis=0) >> 행\n",
    "# drop('열이름', axis=1) >> 열\n",
    "df_new = df.drop(0, axis=0)\n",
    "df_new.head(3)"
   ]
  },
  {
   "cell_type": "code",
   "execution_count": null,
   "metadata": {},
   "outputs": [],
   "source": [
    "df_new = df.drop('인명피해(명)소계', axis=1)\n",
    "df_new.head(3)"
   ]
  },
  {
   "cell_type": "code",
   "execution_count": null,
   "metadata": {},
   "outputs": [],
   "source": [
    "# drop 메소드는 행이나 열을 삭제한 새로운 데이터프레임을 반환한다.\n",
    "df.drop('인명피해(명)소계', axis=1)\n",
    "df.head(3)"
   ]
  },
  {
   "cell_type": "code",
   "execution_count": null,
   "metadata": {},
   "outputs": [],
   "source": [
    "df.drop('인명피해(명)소계', axis=1, inplace=True)\n",
    "df.head(3)"
   ]
  },
  {
   "cell_type": "code",
   "execution_count": null,
   "metadata": {},
   "outputs": [],
   "source": [
    "df_titanic = pd.read_csv('../data/titanic.csv')\n",
    "df_titanic.head(3)"
   ]
  },
  {
   "cell_type": "code",
   "execution_count": null,
   "metadata": {},
   "outputs": [],
   "source": [
    "# 결손 데이터 확인\n",
    "df_titanic.isna().head(3)"
   ]
  },
  {
   "cell_type": "code",
   "execution_count": null,
   "metadata": {},
   "outputs": [],
   "source": [
    "# fillna로 결손 데이터 대체\n",
    "df_titanic['Cabin'] = df_titanic['Cabin'].fillna('C000')\n",
    "df_titanic.head(3)"
   ]
  },
  {
   "cell_type": "code",
   "execution_count": null,
   "metadata": {},
   "outputs": [],
   "source": [
    "# Age  열의 결손 데이터를 평균 나이로\n",
    "df_titanic['Age'] = df_titanic['Age'].fillna(df_titanic['Age'].mean())\n",
    "df_titanic.head(3)"
   ]
  },
  {
   "cell_type": "code",
   "execution_count": null,
   "metadata": {},
   "outputs": [],
   "source": [
    "# 중복 제거\n",
    "data = {\n",
    "    'Name': ['Alice', 'Bob', 'Charlie', 'Alice', 'Bob'],\n",
    "    'Age': [25, 30, 35, 25, 30],\n",
    "    'City': ['New York', 'Los Angeles', 'Chicago', 'New York', 'Los Angeles']\n",
    "}\n",
    "df_dup = pd.DataFrame(data)\n",
    "\n",
    "# 중복 여부 확인\n",
    "duplicates = df_dup.duplicated()\n",
    "print(duplicates)"
   ]
  },
  {
   "cell_type": "code",
   "execution_count": null,
   "metadata": {},
   "outputs": [],
   "source": [
    "# 중복값 제거\n",
    "# drop_duplicates() 메서드를 사용하여 중복값을 제거할 수 있습니다. \n",
    "df_no_duplicates = df_dup.drop_duplicates()\n",
    "print(df_no_duplicates)"
   ]
  }
 ],
 "metadata": {
  "kernelspec": {
   "display_name": "ml",
   "language": "python",
   "name": "python3"
  },
  "language_info": {
   "codemirror_mode": {
    "name": "ipython",
    "version": 3
   },
   "file_extension": ".py",
   "mimetype": "text/x-python",
   "name": "python",
   "nbconvert_exporter": "python",
   "pygments_lexer": "ipython3",
   "version": "3.12.7"
  }
 },
 "nbformat": 4,
 "nbformat_minor": 2
}
