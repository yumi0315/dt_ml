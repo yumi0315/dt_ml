{
  "cells": [
    {
      "cell_type": "code",
      "execution_count": null,
      "metadata": {},
      "outputs": [],
      "source": [
        "%pip install scikit-learn"
      ]
    },
    {
      "cell_type": "code",
      "execution_count": 4,
      "metadata": {
        "gather": {
          "logged": 1693723354893
        },
        "id": "oCux3lFWHmCL"
      },
      "outputs": [],
      "source": [
        "import pandas as pd\n",
        "from sklearn.tree import DecisionTreeClassifier"
      ]
    },
    {
      "cell_type": "code",
      "execution_count": 12,
      "metadata": {
        "colab": {
          "base_uri": "https://localhost:8080/",
          "height": 254
        },
        "gather": {
          "logged": 1693723645369
        },
        "id": "ihjLKsPXHmCM",
        "outputId": "6c61634f-0d6c-41c9-8b8f-ac1f7c5d82ca"
      },
      "outputs": [],
      "source": [
        "# 붓꽃 데이터 세트를 로딩합니다.\n",
        "iris = pd.read_csv('../data/iris.csv')\n",
        "\n",
        "# X: 피처(Feature), 입력값, 독립변수\n",
        "# y: 타겟(Target), 레이블(Label), 출력값, 종속변수\n",
        "X = iris.drop('variety', axis=1)\n",
        "y = iris['variety']"
      ]
    },
    {
      "cell_type": "code",
      "execution_count": null,
      "metadata": {
        "colab": {
          "base_uri": "https://localhost:8080/",
          "height": 75
        },
        "gather": {
          "logged": 1693723964471
        },
        "id": "x0YyAWRTHmCM",
        "outputId": "7d8d121c-18df-42f7-eb4e-38b9bfe89d4f"
      },
      "outputs": [],
      "source": [
        "# DecisionTreeClassifier 객체 생성\n",
        "dt_clf = DecisionTreeClassifier(random_state=11)\n",
        "\n",
        "# 학습 수행\n",
        "dt_clf.fit(X, y)"
      ]
    },
    {
      "cell_type": "code",
      "execution_count": 24,
      "metadata": {
        "gather": {
          "logged": 1693723967800
        },
        "id": "bWhcTJWhHmCM"
      },
      "outputs": [],
      "source": [
        "# 학습이 완료된 DecisionTreeClassifier 객체에서 예측 수행.\n",
        "pred = dt_clf.predict(X)"
      ]
    },
    {
      "cell_type": "code",
      "execution_count": null,
      "metadata": {
        "colab": {
          "base_uri": "https://localhost:8080/"
        },
        "gather": {
          "logged": 1693723970230
        },
        "id": "sZcUrwQHHmCN",
        "outputId": "9e219823-d8ac-4ba9-9007-9aa50974c4a1"
      },
      "outputs": [],
      "source": [
        "from sklearn.metrics import accuracy_score\n",
        "print('예측 정확도: {}'.format(accuracy_score(y,pred)))"
      ]
    },
    {
      "cell_type": "code",
      "execution_count": null,
      "metadata": {
        "colab": {
          "base_uri": "https://localhost:8080/"
        },
        "gather": {
          "logged": 1693724001737
        },
        "id": "nZ0TZi1kHmCN",
        "outputId": "030cb28b-99f3-4d7e-dc09-73fd1edf736e"
      },
      "outputs": [],
      "source": [
        "# 학습 데이터와 테스트 데이터도 아닌 신규 데이터로 예측\n",
        "new_data = [[6., 2.9, 4.5, 1.5]]    # sepal length, sepal width, petal length, petal width 순서의 값\n",
        "pred_new = dt_clf.predict(new_data)\n",
        "pred_new"
      ]
    }
  ],
  "metadata": {
    "colab": {
      "provenance": []
    },
    "kernel_info": {
      "name": "python310-sdkv2"
    },
    "kernelspec": {
      "display_name": "ml",
      "language": "python",
      "name": "python3"
    },
    "language_info": {
      "codemirror_mode": {
        "name": "ipython",
        "version": 3
      },
      "file_extension": ".py",
      "mimetype": "text/x-python",
      "name": "python",
      "nbconvert_exporter": "python",
      "pygments_lexer": "ipython3",
      "version": "3.12.7"
    },
    "microsoft": {
      "host": {
        "AzureML": {
          "notebookHasBeenCompleted": true
        }
      }
    },
    "nteract": {
      "version": "nteract-front-end@1.0.0"
    }
  },
  "nbformat": 4,
  "nbformat_minor": 0
}
