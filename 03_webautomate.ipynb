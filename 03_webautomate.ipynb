{
 "cells": [
  {
   "cell_type": "code",
   "execution_count": 1,
   "metadata": {},
   "outputs": [],
   "source": [
    "from selenium import webdriver\n",
    "from selenium.webdriver.chrome.service import Service\n",
    "from selenium.webdriver.common.by import By\n",
    "\n",
    "chromedriver = r'C:\\Users\\samsung\\Downloads\\chromedriver-win64\\chromedriver-win64\\chromedriver.exe'\n",
    "service = Service(executable_path=chromedriver)\n",
    "driver = webdriver.Chrome(service=service)\n",
    "\n",
    "url = 'https://datatrend.kakao.com/'\n",
    "driver.get(url)\n",
    "\n",
    "selector = '#keyword'\n",
    "input_box = driver.find_element(By.CSS_SELECTOR, selector)\n",
    "input_box.clear()\n",
    "input_box.send_keys('수박')\n",
    "\n",
    "selector = '#root > div > div > main > article > div.wrap_btn > button.btn_search'\n",
    "button = driver.find_element(By.CSS_SELECTOR, selector)\n",
    "button.click()"
   ]
  }
 ],
 "metadata": {
  "kernelspec": {
   "display_name": "projectA",
   "language": "python",
   "name": "python3"
  },
  "language_info": {
   "codemirror_mode": {
    "name": "ipython",
    "version": 3
   },
   "file_extension": ".py",
   "mimetype": "text/x-python",
   "name": "python",
   "nbconvert_exporter": "python",
   "pygments_lexer": "ipython3",
   "version": "3.12.4"
  }
 },
 "nbformat": 4,
 "nbformat_minor": 2
}
