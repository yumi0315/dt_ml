{
 "cells": [
  {
   "cell_type": "code",
   "execution_count": 8,
   "metadata": {},
   "outputs": [],
   "source": [
    "from selenium import webdriver\n",
    "from selenium.webdriver.chrome.service import Service\n",
    "from bs4 import BeautifulSoup\n",
    "import pandas as pd\n",
    "\n",
    "# 크롬 드라이버의 경로를 수정해야한다.\n",
    "chromedriver = r'C:\\Users\\samsung\\Downloads\\chromedriver-win64\\chromedriver-win64\\chromedriver.exe'\n",
    "service = Service(executable_path=chromedriver)\n",
    "driver = webdriver.Chrome(service=service)\n",
    "\n",
    "# options = webdriver.ChromeOptions()\n",
    "# options.add_argument('--headless')  # 헤드리스 모드 (브라우저 창을 보이지 않게)\n",
    "# options.add_argument('--no-sandbox')  # 추가적인 옵션\n",
    "# options.add_argument('--disable-dev-shm-usage')  # 리소스 사용 최적화\n",
    "# driver = webdriver.Chrome(service=Service(ChromeDriverManager().install()), options=options)\n",
    "\n",
    "url = 'https://www.lotteon.com/search/render/render.ecn?render=nqapi&platform=pc&collection_id=301&u9=navigate&u8=LM10200036&login=Y&mallId=4'\n",
    "driver.get(url)\n",
    "soup = BeautifulSoup(driver.page_source, 'html.parser')\n",
    "css_selector = '#s-category-app > section > div > div.s-widget2-body > div > ul'\n",
    "product_list = soup.select_one(css_selector)\n",
    "products = product_list.find_all('li')\n",
    "\n",
    "# 한 상품의 정보를 추출한다\n",
    "items = list()\n",
    "for product in products:\n",
    "    product_name = product.find('div', class_='s-goods-title').text\n",
    "    product_price = product.find('span', class_='s-goods-price__number').text\n",
    "    items.append([product_name,product_price])\n",
    "\n",
    "df = pd.DataFrame(items, columns=['name','price'])\n",
    "df.to_csv('사과_배.csv')\n",
    "\n",
    "driver.quit()\n"
   ]
  },
  {
   "cell_type": "code",
   "execution_count": null,
   "metadata": {},
   "outputs": [],
   "source": []
  }
 ],
 "metadata": {
  "kernelspec": {
   "display_name": "projectA",
   "language": "python",
   "name": "python3"
  },
  "language_info": {
   "codemirror_mode": {
    "name": "ipython",
    "version": 3
   },
   "file_extension": ".py",
   "mimetype": "text/x-python",
   "name": "python",
   "nbconvert_exporter": "python",
   "pygments_lexer": "ipython3",
   "version": "3.12.4"
  }
 },
 "nbformat": 4,
 "nbformat_minor": 2
}
