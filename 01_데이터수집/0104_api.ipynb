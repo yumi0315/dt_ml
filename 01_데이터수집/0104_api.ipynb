{
 "cells": [
  {
   "cell_type": "code",
   "execution_count": null,
   "metadata": {},
   "outputs": [],
   "source": [
    "import requests\n",
    "import json\n",
    "\n",
    "url = 'https://mfront.homeplus.co.kr/category/item.json?categoryDepth=3&categoryId=300033&page=1&perPage=20&sort=RANK'\n",
    "res = requests.get(url)\n",
    "\n",
    "# JSON 형식의 문자열을 로드\n",
    "j = json.loads(res.text)\n",
    "\n",
    "products = j['data']['dataList']\n",
    "for product in products:\n",
    "    print(product['itemNm'])"
   ]
  }
 ],
 "metadata": {
  "kernelspec": {
   "display_name": "ml",
   "language": "python",
   "name": "python3"
  },
  "language_info": {
   "codemirror_mode": {
    "name": "ipython",
    "version": 3
   },
   "file_extension": ".py",
   "mimetype": "text/x-python",
   "name": "python",
   "nbconvert_exporter": "python",
   "pygments_lexer": "ipython3",
   "version": "3.12.7"
  }
 },
 "nbformat": 4,
 "nbformat_minor": 2
}
