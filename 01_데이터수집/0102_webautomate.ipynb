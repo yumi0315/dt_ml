{
 "cells": [
  {
   "cell_type": "code",
   "execution_count": 1,
   "metadata": {},
   "outputs": [],
   "source": [
    "import time\n",
    "from selenium import webdriver\n",
    "from selenium.webdriver.chrome.service import Service\n",
    "from selenium.webdriver.common.by import By\n",
    "\n",
    "# 크롬 드라이버의 경로를 수정해야한다.\n",
    "chromedriver = r'C:\\miniconda3\\chromedriver\\chromedriver.exe'\n",
    "service = Service(executable_path=chromedriver)\n",
    "driver = webdriver.Chrome(service=service)\n",
    "\n",
    "url = 'https://datatrend.kakao.com/'\n",
    "driver.get(url)\n",
    "time.sleep(5)"
   ]
  },
  {
   "cell_type": "code",
   "execution_count": 2,
   "metadata": {},
   "outputs": [],
   "source": [
    "# 기간: 전체\n",
    "selector = '#root > div > div > main > article > div.wrap_select > div.box_select > div.wrap_period > div.option_check > label:nth-child(1) > span'\n",
    "button = driver.find_element(By.CSS_SELECTOR, selector)\n",
    "button.click()\n",
    "time.sleep(5)\n",
    "\n",
    "# 검색어: 수박\n",
    "selector = '#keyword'\n",
    "text_input = driver.find_element(By.CSS_SELECTOR, selector)\n",
    "text_input.clear()\n",
    "text_input.send_keys('수박')\n",
    "time.sleep(5)\n",
    "\n",
    "# 조회하기\n",
    "selector = '#root > div > div > main > article > div.wrap_btn > button.btn_search'\n",
    "button = driver.find_element(By.CSS_SELECTOR, selector)\n",
    "button.click()\n",
    "time.sleep(5)"
   ]
  },
  {
   "cell_type": "code",
   "execution_count": 3,
   "metadata": {},
   "outputs": [],
   "source": [
    "driver.quit()"
   ]
  }
 ],
 "metadata": {
  "kernelspec": {
   "display_name": "ml",
   "language": "python",
   "name": "python3"
  },
  "language_info": {
   "codemirror_mode": {
    "name": "ipython",
    "version": 3
   },
   "file_extension": ".py",
   "mimetype": "text/x-python",
   "name": "python",
   "nbconvert_exporter": "python",
   "pygments_lexer": "ipython3",
   "version": "3.12.7"
  }
 },
 "nbformat": 4,
 "nbformat_minor": 2
}
