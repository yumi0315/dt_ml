{
 "cells": [
  {
   "cell_type": "code",
   "execution_count": 2,
   "metadata": {},
   "outputs": [],
   "source": [
    "from bs4 import BeautifulSoup\n",
    "\n",
    "html = \"\"\"\n",
    "<html>\n",
    "  <body>\n",
    "    <div class=\"content\">\n",
    "      <h1 class=\"title\">웹스크래핑 알아보기</h1>\n",
    "      <p>BeautifulSoup을 사용한 웹스크래핑 예제입니다.</p>\n",
    "    </div>\n",
    "  </body>\n",
    "</html>\n",
    "\"\"\""
   ]
  },
  {
   "cell_type": "code",
   "execution_count": null,
   "metadata": {},
   "outputs": [],
   "source": [
    "soup = BeautifulSoup(html, 'html.parser')\n",
    "element = soup.select_one('.title')\n",
    "\n",
    "print(element)  # 출력: <h1 class=\"title\">웹스크래핑 알아보기</h1>\n",
    "print(element.text)  # 출력: 웹스크래핑 알아보기\n",
    "print(element.name)  # 출력: h1\n",
    "print(element.get('class'))  # 출력: ['title']"
   ]
  },
  {
   "cell_type": "code",
   "execution_count": null,
   "metadata": {},
   "outputs": [],
   "source": [
    "import requests\n",
    "from bs4 import BeautifulSoup\n",
    "\n",
    "url = 'https://www.worldometers.info/gdp/gdp-by-country'\n",
    "response = requests.get(url)\n",
    "soup = BeautifulSoup(response.content, 'html.parser')\n",
    "\n",
    "css_selector = '#example2 > tbody > tr:nth-child(1) > td:nth-child(3)'\n",
    "element = soup.select_one(css_selector)\n",
    "print(element)  # <td style=\"font-weight: bold; text-align:right;\">$25,462,700,000,000</td>>\n",
    "print(element.text)  # $25,462,700,000,000\n",
    "print(element.name)  # td\n",
    "print(element.get('style'))  # font-weight: bold; text-align:right;\n"
   ]
  },
  {
   "cell_type": "code",
   "execution_count": null,
   "metadata": {},
   "outputs": [],
   "source": [
    "import requests\n",
    "from bs4 import BeautifulSoup\n",
    "\n",
    "url = 'https://www.worldometers.info/gdp/gdp-by-country'\n",
    "response = requests.get(url)\n",
    "soup = BeautifulSoup(response.content, 'html.parser')\n",
    "\n",
    "css_selector = '#example2 > tbody'\n",
    "gdp_list = soup.select_one(css_selector)\n",
    "\n",
    "rows = gdp_list.find_all('tr')\n",
    "for row in rows:\n",
    "    cols = row.find_all('td')\n",
    "    print(cols[1].text)\n"
   ]
  },
  {
   "cell_type": "code",
   "execution_count": null,
   "metadata": {},
   "outputs": [],
   "source": []
  }
 ],
 "metadata": {
  "kernelspec": {
   "display_name": "ml",
   "language": "python",
   "name": "python3"
  },
  "language_info": {
   "codemirror_mode": {
    "name": "ipython",
    "version": 3
   },
   "file_extension": ".py",
   "mimetype": "text/x-python",
   "name": "python",
   "nbconvert_exporter": "python",
   "pygments_lexer": "ipython3",
   "version": "3.12.7"
  }
 },
 "nbformat": 4,
 "nbformat_minor": 2
}
